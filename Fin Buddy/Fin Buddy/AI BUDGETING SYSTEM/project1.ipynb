{
 "cells": [
  {
   "cell_type": "code",
   "execution_count": 11,
   "id": "6ba881e8-2a83-4cf3-b74c-2f55b0c9f4e8",
   "metadata": {},
   "outputs": [
    {
     "name": "stdout",
     "output_type": "stream",
     "text": [
      "Requirement already satisfied: pandas in g:\\anaconda3\\lib\\site-packages (2.2.2)\n",
      "Requirement already satisfied: numpy in g:\\anaconda3\\lib\\site-packages (1.26.4)\n",
      "Requirement already satisfied: matplotlib in g:\\anaconda3\\lib\\site-packages (3.9.2)\n",
      "Requirement already satisfied: seaborn in g:\\anaconda3\\lib\\site-packages (0.13.2)\n",
      "Requirement already satisfied: plotly in g:\\anaconda3\\lib\\site-packages (5.24.1)\n",
      "Requirement already satisfied: scikit-learn in g:\\anaconda3\\lib\\site-packages (1.5.1)\n",
      "Requirement already satisfied: python-dateutil>=2.8.2 in g:\\anaconda3\\lib\\site-packages (from pandas) (2.9.0.post0)\n",
      "Requirement already satisfied: pytz>=2020.1 in g:\\anaconda3\\lib\\site-packages (from pandas) (2024.1)\n",
      "Requirement already satisfied: tzdata>=2022.7 in g:\\anaconda3\\lib\\site-packages (from pandas) (2023.3)\n",
      "Requirement already satisfied: contourpy>=1.0.1 in g:\\anaconda3\\lib\\site-packages (from matplotlib) (1.2.0)\n",
      "Requirement already satisfied: cycler>=0.10 in g:\\anaconda3\\lib\\site-packages (from matplotlib) (0.11.0)\n",
      "Requirement already satisfied: fonttools>=4.22.0 in g:\\anaconda3\\lib\\site-packages (from matplotlib) (4.51.0)\n",
      "Requirement already satisfied: kiwisolver>=1.3.1 in g:\\anaconda3\\lib\\site-packages (from matplotlib) (1.4.4)\n",
      "Requirement already satisfied: packaging>=20.0 in g:\\anaconda3\\lib\\site-packages (from matplotlib) (24.1)\n",
      "Requirement already satisfied: pillow>=8 in g:\\anaconda3\\lib\\site-packages (from matplotlib) (10.4.0)\n",
      "Requirement already satisfied: pyparsing>=2.3.1 in g:\\anaconda3\\lib\\site-packages (from matplotlib) (3.1.2)\n",
      "Requirement already satisfied: tenacity>=6.2.0 in g:\\anaconda3\\lib\\site-packages (from plotly) (8.2.3)\n",
      "Requirement already satisfied: scipy>=1.6.0 in g:\\anaconda3\\lib\\site-packages (from scikit-learn) (1.13.1)\n",
      "Requirement already satisfied: joblib>=1.2.0 in g:\\anaconda3\\lib\\site-packages (from scikit-learn) (1.4.2)\n",
      "Requirement already satisfied: threadpoolctl>=3.1.0 in g:\\anaconda3\\lib\\site-packages (from scikit-learn) (3.5.0)\n",
      "Requirement already satisfied: six>=1.5 in g:\\anaconda3\\lib\\site-packages (from python-dateutil>=2.8.2->pandas) (1.16.0)\n"
     ]
    }
   ],
   "source": [
    "!pip install pandas numpy matplotlib seaborn plotly scikit-learn"
   ]
  },
  {
   "cell_type": "code",
   "execution_count": 3,
   "id": "0988a84d-9b3c-408a-bf45-9261e4f05525",
   "metadata": {},
   "outputs": [],
   "source": [
    "import pandas as pd\n",
    "import os\n",
    "import datetime"
   ]
  },
  {
   "cell_type": "code",
   "execution_count": 5,
   "id": "578a157a-6eeb-488d-a374-d01ab72d73d0",
   "metadata": {},
   "outputs": [
    {
     "name": "stdout",
     "output_type": "stream",
     "text": [
      "\n",
      "📂 Budget Data Loaded Successfully!\n",
      "\n",
      "  Month_Year     Category   Spent    Limit  Over Budget\n",
      "0      01/24         Rent  6000.0  10000.0        False\n",
      "1      01/24  Electricity  4000.0   5000.0        False\n",
      "2      01/24        Water  1500.0   2000.0        False\n",
      "3      01/24         Food  6000.0   8000.0        False\n",
      "4      01/24     Clothes   7000.0   8000.0        False\n"
     ]
    }
   ],
   "source": [
    "\n",
    "# Define filename\n",
    "filename = \"budget_data.csv\"\n",
    "\n",
    "# Read the CSV file\n",
    "try:\n",
    "    df = pd.read_csv(filename)\n",
    "    print(\"\\n📂 Budget Data Loaded Successfully!\\n\")\n",
    "    print(df.head())  # Display first few rows\n",
    "except FileNotFoundError:\n",
    "    print(f\"\\n❌ Error: The file '{filename}' does not exist. Please enter data first!\")\n",
    "except pd.errors.EmptyDataError:\n",
    "    print(f\"\\n⚠️ Warning: The file '{filename}' is empty!\")\n"
   ]
  },
  {
   "cell_type": "code",
   "execution_count": 17,
   "id": "8e1b28fc-55c6-4f48-9101-230335fd7b56",
   "metadata": {},
   "outputs": [],
   "source": []
  },
  {
   "cell_type": "code",
   "execution_count": 13,
   "id": "a4b44509-17bf-4db7-a6df-451b101d1960",
   "metadata": {},
   "outputs": [
    {
     "name": "stdin",
     "output_type": "stream",
     "text": [
      "Enter the budget month (MM/YY):  10/23\n",
      "Enter your total money:  20000\n"
     ]
    },
    {
     "ename": "KeyError",
     "evalue": "'Updated Savings'",
     "output_type": "error",
     "traceback": [
      "\u001b[1;31m---------------------------------------------------------------------------\u001b[0m",
      "\u001b[1;31mKeyError\u001b[0m                                  Traceback (most recent call last)",
      "File \u001b[1;32mG:\\anaconda3\\Lib\\site-packages\\pandas\\core\\indexes\\base.py:3805\u001b[0m, in \u001b[0;36mIndex.get_loc\u001b[1;34m(self, key)\u001b[0m\n\u001b[0;32m   3804\u001b[0m \u001b[38;5;28;01mtry\u001b[39;00m:\n\u001b[1;32m-> 3805\u001b[0m     \u001b[38;5;28;01mreturn\u001b[39;00m \u001b[38;5;28mself\u001b[39m\u001b[38;5;241m.\u001b[39m_engine\u001b[38;5;241m.\u001b[39mget_loc(casted_key)\n\u001b[0;32m   3806\u001b[0m \u001b[38;5;28;01mexcept\u001b[39;00m \u001b[38;5;167;01mKeyError\u001b[39;00m \u001b[38;5;28;01mas\u001b[39;00m err:\n",
      "File \u001b[1;32mindex.pyx:167\u001b[0m, in \u001b[0;36mpandas._libs.index.IndexEngine.get_loc\u001b[1;34m()\u001b[0m\n",
      "File \u001b[1;32mindex.pyx:196\u001b[0m, in \u001b[0;36mpandas._libs.index.IndexEngine.get_loc\u001b[1;34m()\u001b[0m\n",
      "File \u001b[1;32mpandas\\\\_libs\\\\hashtable_class_helper.pxi:7081\u001b[0m, in \u001b[0;36mpandas._libs.hashtable.PyObjectHashTable.get_item\u001b[1;34m()\u001b[0m\n",
      "File \u001b[1;32mpandas\\\\_libs\\\\hashtable_class_helper.pxi:7089\u001b[0m, in \u001b[0;36mpandas._libs.hashtable.PyObjectHashTable.get_item\u001b[1;34m()\u001b[0m\n",
      "\u001b[1;31mKeyError\u001b[0m: 'Updated Savings'",
      "\nThe above exception was the direct cause of the following exception:\n",
      "\u001b[1;31mKeyError\u001b[0m                                  Traceback (most recent call last)",
      "Cell \u001b[1;32mIn[13], line 101\u001b[0m\n\u001b[0;32m     98\u001b[0m     \u001b[38;5;28mprint\u001b[39m(\u001b[38;5;124mf\u001b[39m\u001b[38;5;124m\"\u001b[39m\u001b[38;5;130;01m\\n\u001b[39;00m\u001b[38;5;124m✅ Data for \u001b[39m\u001b[38;5;132;01m{\u001b[39;00mmonth_year\u001b[38;5;132;01m}\u001b[39;00m\u001b[38;5;124m added successfully to \u001b[39m\u001b[38;5;124m'\u001b[39m\u001b[38;5;132;01m{\u001b[39;00mfilename\u001b[38;5;132;01m}\u001b[39;00m\u001b[38;5;124m'\u001b[39m\u001b[38;5;124m!\u001b[39m\u001b[38;5;124m\"\u001b[39m)\n\u001b[0;32m    100\u001b[0m \u001b[38;5;66;03m# Run the function\u001b[39;00m\n\u001b[1;32m--> 101\u001b[0m append_monthly_budget_data()\n",
      "Cell \u001b[1;32mIn[13], line 58\u001b[0m, in \u001b[0;36mappend_monthly_budget_data\u001b[1;34m(filename)\u001b[0m\n\u001b[0;32m     55\u001b[0m last_data \u001b[38;5;241m=\u001b[39m get_last_month_data(filename)\n\u001b[0;32m     57\u001b[0m \u001b[38;5;66;03m# Get user input\u001b[39;00m\n\u001b[1;32m---> 58\u001b[0m month_year, total_money, savings, min_savings_limit, expenses, savings_goal_item \u001b[38;5;241m=\u001b[39m get_user_input(last_data)\n\u001b[0;32m     60\u001b[0m \u001b[38;5;66;03m# Calculate total expenses and remaining money\u001b[39;00m\n\u001b[0;32m     61\u001b[0m total_expenses \u001b[38;5;241m=\u001b[39m \u001b[38;5;28msum\u001b[39m(exp[\u001b[38;5;124m\"\u001b[39m\u001b[38;5;124mspent\u001b[39m\u001b[38;5;124m\"\u001b[39m] \u001b[38;5;28;01mfor\u001b[39;00m exp \u001b[38;5;129;01min\u001b[39;00m expenses\u001b[38;5;241m.\u001b[39mvalues()) \u001b[38;5;28;01mif\u001b[39;00m expenses \u001b[38;5;28;01melse\u001b[39;00m \u001b[38;5;241m0\u001b[39m\n",
      "Cell \u001b[1;32mIn[13], line 23\u001b[0m, in \u001b[0;36mget_user_input\u001b[1;34m(last_data)\u001b[0m\n\u001b[0;32m     20\u001b[0m total_money \u001b[38;5;241m=\u001b[39m \u001b[38;5;28mfloat\u001b[39m(\u001b[38;5;28minput\u001b[39m(\u001b[38;5;124m\"\u001b[39m\u001b[38;5;124mEnter your total money: \u001b[39m\u001b[38;5;124m\"\u001b[39m))\n\u001b[0;32m     22\u001b[0m \u001b[38;5;66;03m# Fetch previous savings and allow additional savings\u001b[39;00m\n\u001b[1;32m---> 23\u001b[0m prev_savings \u001b[38;5;241m=\u001b[39m last_data[\u001b[38;5;124m\"\u001b[39m\u001b[38;5;124mUpdated Savings\u001b[39m\u001b[38;5;124m\"\u001b[39m] \u001b[38;5;28;01mif\u001b[39;00m last_data \u001b[38;5;129;01mis\u001b[39;00m \u001b[38;5;129;01mnot\u001b[39;00m \u001b[38;5;28;01mNone\u001b[39;00m \u001b[38;5;28;01melse\u001b[39;00m \u001b[38;5;241m0\u001b[39m\n\u001b[0;32m     24\u001b[0m \u001b[38;5;28mprint\u001b[39m(\u001b[38;5;124mf\u001b[39m\u001b[38;5;124m\"\u001b[39m\u001b[38;5;130;01m\\n\u001b[39;00m\u001b[38;5;124m💰 Previous savings: \u001b[39m\u001b[38;5;132;01m{\u001b[39;00mprev_savings\u001b[38;5;132;01m}\u001b[39;00m\u001b[38;5;124m\"\u001b[39m)\n\u001b[0;32m     25\u001b[0m additional_savings \u001b[38;5;241m=\u001b[39m \u001b[38;5;28mfloat\u001b[39m(\u001b[38;5;28minput\u001b[39m(\u001b[38;5;124m\"\u001b[39m\u001b[38;5;124mEnter any additional savings for this month: \u001b[39m\u001b[38;5;124m\"\u001b[39m))\n",
      "File \u001b[1;32mG:\\anaconda3\\Lib\\site-packages\\pandas\\core\\series.py:1121\u001b[0m, in \u001b[0;36mSeries.__getitem__\u001b[1;34m(self, key)\u001b[0m\n\u001b[0;32m   1118\u001b[0m     \u001b[38;5;28;01mreturn\u001b[39;00m \u001b[38;5;28mself\u001b[39m\u001b[38;5;241m.\u001b[39m_values[key]\n\u001b[0;32m   1120\u001b[0m \u001b[38;5;28;01melif\u001b[39;00m key_is_scalar:\n\u001b[1;32m-> 1121\u001b[0m     \u001b[38;5;28;01mreturn\u001b[39;00m \u001b[38;5;28mself\u001b[39m\u001b[38;5;241m.\u001b[39m_get_value(key)\n\u001b[0;32m   1123\u001b[0m \u001b[38;5;66;03m# Convert generator to list before going through hashable part\u001b[39;00m\n\u001b[0;32m   1124\u001b[0m \u001b[38;5;66;03m# (We will iterate through the generator there to check for slices)\u001b[39;00m\n\u001b[0;32m   1125\u001b[0m \u001b[38;5;28;01mif\u001b[39;00m is_iterator(key):\n",
      "File \u001b[1;32mG:\\anaconda3\\Lib\\site-packages\\pandas\\core\\series.py:1237\u001b[0m, in \u001b[0;36mSeries._get_value\u001b[1;34m(self, label, takeable)\u001b[0m\n\u001b[0;32m   1234\u001b[0m     \u001b[38;5;28;01mreturn\u001b[39;00m \u001b[38;5;28mself\u001b[39m\u001b[38;5;241m.\u001b[39m_values[label]\n\u001b[0;32m   1236\u001b[0m \u001b[38;5;66;03m# Similar to Index.get_value, but we do not fall back to positional\u001b[39;00m\n\u001b[1;32m-> 1237\u001b[0m loc \u001b[38;5;241m=\u001b[39m \u001b[38;5;28mself\u001b[39m\u001b[38;5;241m.\u001b[39mindex\u001b[38;5;241m.\u001b[39mget_loc(label)\n\u001b[0;32m   1239\u001b[0m \u001b[38;5;28;01mif\u001b[39;00m is_integer(loc):\n\u001b[0;32m   1240\u001b[0m     \u001b[38;5;28;01mreturn\u001b[39;00m \u001b[38;5;28mself\u001b[39m\u001b[38;5;241m.\u001b[39m_values[loc]\n",
      "File \u001b[1;32mG:\\anaconda3\\Lib\\site-packages\\pandas\\core\\indexes\\base.py:3812\u001b[0m, in \u001b[0;36mIndex.get_loc\u001b[1;34m(self, key)\u001b[0m\n\u001b[0;32m   3807\u001b[0m     \u001b[38;5;28;01mif\u001b[39;00m \u001b[38;5;28misinstance\u001b[39m(casted_key, \u001b[38;5;28mslice\u001b[39m) \u001b[38;5;129;01mor\u001b[39;00m (\n\u001b[0;32m   3808\u001b[0m         \u001b[38;5;28misinstance\u001b[39m(casted_key, abc\u001b[38;5;241m.\u001b[39mIterable)\n\u001b[0;32m   3809\u001b[0m         \u001b[38;5;129;01mand\u001b[39;00m \u001b[38;5;28many\u001b[39m(\u001b[38;5;28misinstance\u001b[39m(x, \u001b[38;5;28mslice\u001b[39m) \u001b[38;5;28;01mfor\u001b[39;00m x \u001b[38;5;129;01min\u001b[39;00m casted_key)\n\u001b[0;32m   3810\u001b[0m     ):\n\u001b[0;32m   3811\u001b[0m         \u001b[38;5;28;01mraise\u001b[39;00m InvalidIndexError(key)\n\u001b[1;32m-> 3812\u001b[0m     \u001b[38;5;28;01mraise\u001b[39;00m \u001b[38;5;167;01mKeyError\u001b[39;00m(key) \u001b[38;5;28;01mfrom\u001b[39;00m \u001b[38;5;21;01merr\u001b[39;00m\n\u001b[0;32m   3813\u001b[0m \u001b[38;5;28;01mexcept\u001b[39;00m \u001b[38;5;167;01mTypeError\u001b[39;00m:\n\u001b[0;32m   3814\u001b[0m     \u001b[38;5;66;03m# If we have a listlike key, _check_indexing_error will raise\u001b[39;00m\n\u001b[0;32m   3815\u001b[0m     \u001b[38;5;66;03m#  InvalidIndexError. Otherwise we fall through and re-raise\u001b[39;00m\n\u001b[0;32m   3816\u001b[0m     \u001b[38;5;66;03m#  the TypeError.\u001b[39;00m\n\u001b[0;32m   3817\u001b[0m     \u001b[38;5;28mself\u001b[39m\u001b[38;5;241m.\u001b[39m_check_indexing_error(key)\n",
      "\u001b[1;31mKeyError\u001b[0m: 'Updated Savings'"
     ]
    }
   ],
   "source": [
    "\n",
    "# Function to read last month's data\n",
    "def get_last_month_data(filename=\"budget_data.csv\"):\n",
    "    if os.path.exists(filename):\n",
    "        df = pd.read_csv(filename)\n",
    "        if not df.empty:\n",
    "            return df.iloc[-1]  # Get the last row (last month’s data)\n",
    "    return None  # If file doesn't exist or is empty\n",
    "\n",
    "# Function to get user input while fetching categories from file\n",
    "def get_user_input(last_data):\n",
    "    month_year = input(\"Enter the budget month (MM/YY): \").strip()\n",
    "\n",
    "    # Validate Date Format\n",
    "    try:\n",
    "        datetime.datetime.strptime(month_year, \"%m/%y\")\n",
    "    except ValueError:\n",
    "        print(\"❌ Invalid format! Please enter in MM/YY format.\")\n",
    "        return get_user_input(last_data)\n",
    "    \n",
    "    total_money = float(input(\"Enter your total money: \"))\n",
    "\n",
    "    # Fetch previous savings and allow additional savings\n",
    "    prev_savings = last_data[\"Updated Savings\"] if last_data is not None else 0\n",
    "    print(f\"\\n💰 Previous savings: {prev_savings}\")\n",
    "    additional_savings = float(input(\"Enter any additional savings for this month: \"))\n",
    "    total_savings = prev_savings + additional_savings\n",
    "\n",
    "    min_savings_limit = float(input(\"Enter the minimum savings limit: \"))\n",
    "\n",
    "    # Fetch categories from last month's data\n",
    "    categories = {}\n",
    "    if last_data is not None:\n",
    "        print(\"\\n📌 Fetching previous expense categories...\")\n",
    "        for column in last_data.index:\n",
    "            if column not in [\"Username\", \"Date\", \"Total Money\", \"Total Expenses\", \"Remaining Money\", \n",
    "                              \"Updated Savings\", \"Min Savings Limit\", \"Savings Goal\", \"Goal Cost\", \"Amount Needed for Goal\"]:\n",
    "                spent = float(input(f\"Enter expenditure for {column} (Last: {last_data[column]}): \"))\n",
    "                categories[column] = {\"spent\": spent, \"limit\": last_data[column]}  # Keep the old limit\n",
    "\n",
    "    # Allow updating the savings goal\n",
    "    goal_item = input(\"Enter a new savings goal (or press Enter to keep the last one): \").strip()\n",
    "    if not goal_item and last_data is not None:\n",
    "        goal_item = last_data[\"Savings Goal\"]\n",
    "        goal_cost = last_data[\"Goal Cost\"]\n",
    "    else:\n",
    "        goal_cost = float(input(f\"Enter the cost of {goal_item}: \"))\n",
    "\n",
    "    savings_goal = {\"Item\": goal_item, \"Cost\": goal_cost}\n",
    "\n",
    "    return month_year, total_money, total_savings, min_savings_limit, categories, savings_goal\n",
    "\n",
    "# Function to append new month's data to CSV\n",
    "def append_monthly_budget_data(filename=\"budget_data.csv\"):\n",
    "    # Retrieve last month's data\n",
    "    last_data = get_last_month_data(filename)\n",
    "\n",
    "    # Get user input\n",
    "    month_year, total_money, savings, min_savings_limit, expenses, savings_goal_item = get_user_input(last_data)\n",
    "\n",
    "    # Calculate total expenses and remaining money\n",
    "    total_expenses = sum(exp[\"spent\"] for exp in expenses.values()) if expenses else 0\n",
    "    remaining_money = total_money - total_expenses\n",
    "    savings += remaining_money  # Add remaining money to savings\n",
    "\n",
    "    # Prepare data dictionary\n",
    "    new_data = {\n",
    "        \"Username\": last_data[\"Username\"] if last_data is not None else input(\"Enter your name: \").strip(),\n",
    "        \"Date\": month_year,\n",
    "        \"Total Money\": total_money,\n",
    "        \"Total Expenses\": total_expenses,\n",
    "        \"Remaining Money\": remaining_money,\n",
    "        \"Updated Savings\": savings,\n",
    "        \"Min Savings Limit\": min_savings_limit,\n",
    "        \"Savings Goal\": savings_goal_item[\"Item\"],\n",
    "        \"Goal Cost\": savings_goal_item[\"Cost\"],\n",
    "        \"Amount Needed for Goal\": max(0, savings_goal_item[\"Cost\"] - savings),\n",
    "    }\n",
    "\n",
    "    # Add expense categories\n",
    "    for category, values in expenses.items():\n",
    "        new_data[category] = values[\"spent\"]\n",
    "\n",
    "    # Convert new data to DataFrame\n",
    "    new_df = pd.DataFrame([new_data])\n",
    "\n",
    "    # Read existing CSV and append new data\n",
    "    if os.path.exists(filename):\n",
    "        try:\n",
    "            existing_df = pd.read_csv(filename)\n",
    "            updated_df = pd.concat([existing_df, new_df], ignore_index=True)  # Append new data\n",
    "        except pd.errors.EmptyDataError:\n",
    "            updated_df = new_df  # If file exists but is empty, use new data only\n",
    "    else:\n",
    "        updated_df = new_df  # If file doesn't exist, create a new one\n",
    "\n",
    "    # Save updated data back to CSV\n",
    "    updated_df.to_csv(filename, index=False)\n",
    "    print(f\"\\n✅ Data for {month_year} added successfully to '{filename}'!\")\n",
    "\n",
    "# Run the function\n",
    "append_monthly_budget_data()"
   ]
  },
  {
   "cell_type": "code",
   "execution_count": null,
   "id": "76182aa6-3a83-4d83-ba38-bb2e4c23b6d8",
   "metadata": {},
   "outputs": [],
   "source": []
  }
 ],
 "metadata": {
  "kernelspec": {
   "display_name": "Python [conda env:base] *",
   "language": "python",
   "name": "conda-base-py"
  },
  "language_info": {
   "codemirror_mode": {
    "name": "ipython",
    "version": 3
   },
   "file_extension": ".py",
   "mimetype": "text/x-python",
   "name": "python",
   "nbconvert_exporter": "python",
   "pygments_lexer": "ipython3",
   "version": "3.12.7"
  }
 },
 "nbformat": 4,
 "nbformat_minor": 5
}
